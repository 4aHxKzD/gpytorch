{
 "cells": [
  {
   "cell_type": "code",
   "execution_count": 1,
   "metadata": {},
   "outputs": [],
   "source": [
    "import math\n",
    "import torch\n",
    "import gpytorch\n",
    "from matplotlib import pyplot as plt\n",
    "\n",
    "%matplotlib inline\n",
    "%load_ext autoreload\n",
    "%autoreload 2"
   ]
  },
  {
   "cell_type": "code",
   "execution_count": 2,
   "metadata": {},
   "outputs": [],
   "source": [
    "# We make an nxn grid of training points spaced every 1/(n-1) on [0,1]x[0,1]\n",
    "n = 10\n",
    "train_x = torch.zeros(pow(n, 2), 2)\n",
    "for i in range(n):\n",
    "    for j in range(n):\n",
    "        train_x[i * n + j][0] = float(i) / (n-1)\n",
    "        train_x[i * n + j][1] = float(j) / (n-1)\n",
    "# True function is sin( 2*pi*(x0+x1))\n",
    "train_y = torch.sin((train_x[:, 0] + train_x[:, 1]) * (2 * math.pi)) + torch.randn_like(train_x[:, 0]).mul(0.01)"
   ]
  },
  {
   "cell_type": "code",
   "execution_count": 49,
   "metadata": {},
   "outputs": [],
   "source": [
    "# We will use the simplest form of GP model, exact inference\n",
    "class ExactGPModel(gpytorch.models.ExactGP):\n",
    "    def __init__(self, train_x, train_y, likelihood):\n",
    "        super(ExactGPModel, self).__init__(train_x, train_y, likelihood)\n",
    "        self.mean_module = gpytorch.means.ConstantMean()\n",
    "        self.covar_module = gpytorch.kernels.ScaleKernel(gpytorch.kernels.WLSHKernel(\n",
    "            num_samples=100, ard_num_dims=2, num_dims=2,\n",
    "        ))\n",
    "    \n",
    "    def forward(self, x):\n",
    "        mean_x = self.mean_module(x)\n",
    "        covar_x = self.covar_module(x)\n",
    "        return gpytorch.distributions.MultivariateNormal(mean_x, covar_x)\n",
    "\n",
    "# initialize likelihood and model\n",
    "likelihood = gpytorch.likelihoods.GaussianLikelihood()\n",
    "model = ExactGPModel(train_x, train_y, likelihood)"
   ]
  },
  {
   "cell_type": "code",
   "execution_count": 56,
   "metadata": {
    "scrolled": false
   },
   "outputs": [
    {
     "name": "stdout",
     "output_type": "stream",
     "text": [
      "Iter 1/50 - Loss: -0.207   lengthscale: 0.156   os: 0.930    noise: 0.000\n",
      "Iter 2/50 - Loss: -0.152   lengthscale: 0.158   os: 0.871    noise: 0.000\n",
      "Iter 3/50 - Loss: -0.165   lengthscale: 0.159   os: 0.828    noise: 0.000\n",
      "Iter 4/50 - Loss: -0.221   lengthscale: 0.157   os: 0.829    noise: 0.000\n",
      "Iter 5/50 - Loss: -0.251   lengthscale: 0.158   os: 0.845    noise: 0.000\n",
      "Iter 6/50 - Loss: -0.262   lengthscale: 0.157   os: 0.870    noise: 0.000\n",
      "Iter 7/50 - Loss: -0.167   lengthscale: 0.159   os: 0.891    noise: 0.000\n",
      "Iter 8/50 - Loss: -0.308   lengthscale: 0.155   os: 0.904    noise: 0.000\n",
      "Iter 9/50 - Loss: -0.230   lengthscale: 0.151   os: 0.897    noise: 0.000\n",
      "Iter 10/50 - Loss: -0.285   lengthscale: 0.150   os: 0.872    noise: 0.000\n",
      "Iter 11/50 - Loss: -0.203   lengthscale: 0.151   os: 0.839    noise: 0.000\n",
      "Iter 12/50 - Loss: -0.186   lengthscale: 0.152   os: 0.802    noise: 0.000\n",
      "Iter 13/50 - Loss: -0.246   lengthscale: 0.150   os: 0.769    noise: 0.000\n",
      "Iter 14/50 - Loss: -0.195   lengthscale: 0.148   os: 0.738    noise: 0.000\n",
      "Iter 15/50 - Loss: -0.231   lengthscale: 0.146   os: 0.710    noise: 0.000\n",
      "Iter 16/50 - Loss: -0.195   lengthscale: 0.144   os: 0.689    noise: 0.000\n",
      "Iter 17/50 - Loss: -0.192   lengthscale: 0.145   os: 0.674    noise: 0.000\n",
      "Iter 18/50 - Loss: -0.205   lengthscale: 0.145   os: 0.670    noise: 0.000\n",
      "Iter 19/50 - Loss: -0.209   lengthscale: 0.146   os: 0.672    noise: 0.000\n",
      "Iter 20/50 - Loss: -0.192   lengthscale: 0.148   os: 0.680    noise: 0.000\n",
      "Iter 21/50 - Loss: -0.238   lengthscale: 0.149   os: 0.695    noise: 0.000\n",
      "Iter 22/50 - Loss: -0.241   lengthscale: 0.151   os: 0.714    noise: 0.000\n",
      "Iter 23/50 - Loss: -0.308   lengthscale: 0.154   os: 0.737    noise: 0.000\n",
      "Iter 24/50 - Loss: -0.247   lengthscale: 0.157   os: 0.764    noise: 0.000\n",
      "Iter 25/50 - Loss: -0.309   lengthscale: 0.161   os: 0.799    noise: 0.000\n",
      "Iter 26/50 - Loss: -0.270   lengthscale: 0.164   os: 0.841    noise: 0.000\n",
      "Iter 27/50 - Loss: -0.141   lengthscale: 0.165   os: 0.892    noise: 0.000\n",
      "Iter 28/50 - Loss: -0.143   lengthscale: 0.165   os: 0.947    noise: 0.000\n",
      "Iter 29/50 - Loss: -0.153   lengthscale: 0.166   os: 1.006    noise: 0.000\n",
      "Iter 30/50 - Loss: -0.172   lengthscale: 0.166   os: 1.065    noise: 0.000\n",
      "Iter 31/50 - Loss: -0.217   lengthscale: 0.165   os: 1.122    noise: 0.000\n",
      "Iter 32/50 - Loss: -0.215   lengthscale: 0.162   os: 1.174    noise: 0.000\n",
      "Iter 33/50 - Loss: -0.239   lengthscale: 0.158   os: 1.205    noise: 0.000\n",
      "Iter 34/50 - Loss: -0.192   lengthscale: 0.156   os: 1.214    noise: 0.000\n",
      "Iter 35/50 - Loss: -0.204   lengthscale: 0.157   os: 1.207    noise: 0.000\n",
      "Iter 36/50 - Loss: -0.194   lengthscale: 0.155   os: 1.189    noise: 0.000\n",
      "Iter 37/50 - Loss: -0.233   lengthscale: 0.154   os: 1.160    noise: 0.000\n",
      "Iter 38/50 - Loss: -0.157   lengthscale: 0.152   os: 1.120    noise: 0.000\n",
      "Iter 39/50 - Loss: -0.194   lengthscale: 0.150   os: 1.073    noise: 0.000\n",
      "Iter 40/50 - Loss: -0.185   lengthscale: 0.148   os: 1.020    noise: 0.000\n",
      "Iter 41/50 - Loss: -0.160   lengthscale: 0.148   os: 0.965    noise: 0.000\n",
      "Iter 42/50 - Loss: -0.168   lengthscale: 0.147   os: 0.908    noise: 0.000\n",
      "Iter 43/50 - Loss: -0.209   lengthscale: 0.146   os: 0.852    noise: 0.000\n",
      "Iter 44/50 - Loss: -0.146   lengthscale: 0.145   os: 0.798    noise: 0.000\n",
      "Iter 45/50 - Loss: -0.234   lengthscale: 0.144   os: 0.748    noise: 0.000\n",
      "Iter 46/50 - Loss: -0.247   lengthscale: 0.145   os: 0.702    noise: 0.000\n",
      "Iter 47/50 - Loss: -0.257   lengthscale: 0.145   os: 0.664    noise: 0.000\n",
      "Iter 48/50 - Loss: -0.222   lengthscale: 0.146   os: 0.633    noise: 0.000\n",
      "Iter 49/50 - Loss: -0.138   lengthscale: 0.146   os: 0.610    noise: 0.000\n",
      "Iter 50/50 - Loss: -0.309   lengthscale: 0.146   os: 0.597    noise: 0.000\n"
     ]
    }
   ],
   "source": [
    "# this is for running the notebook in our testing framework\n",
    "import os\n",
    "smoke_test = ('CI' in os.environ)\n",
    "training_iter = 2 if smoke_test else 50\n",
    "\n",
    "\n",
    "# Find optimal model hyperparameters\n",
    "model.train()\n",
    "likelihood.train()\n",
    "\n",
    "# Use the adam optimizer\n",
    "optimizer = torch.optim.Adam(model.parameters(), lr=0.1)  # Includes GaussianLikelihood parameters\n",
    "\n",
    "# \"Loss\" for GPs - the marginal log likelihood\n",
    "mll = gpytorch.mlls.ExactMarginalLogLikelihood(likelihood, model)\n",
    "\n",
    "with gpytorch.settings.max_cholesky_size(0):\n",
    "    for i in range(training_iter):\n",
    "        # Zero gradients from previous iteration\n",
    "        optimizer.zero_grad()\n",
    "        # Output from model\n",
    "        output = model(train_x)\n",
    "        # Calc loss and backprop gradients\n",
    "        loss = -mll(output, train_y)\n",
    "        loss.backward()\n",
    "        print('Iter %d/%d - Loss: %.3f   lengthscale: %.3f   os: %.3f    noise: %.3f' % (\n",
    "            i + 1, training_iter, loss.item(),\n",
    "            model.covar_module.base_kernel.lengthscale.mean().item(),\n",
    "            model.covar_module.outputscale.item(),\n",
    "            model.likelihood.noise.item()\n",
    "        ))\n",
    "        optimizer.step()"
   ]
  },
  {
   "cell_type": "code",
   "execution_count": 57,
   "metadata": {},
   "outputs": [
    {
     "name": "stdout",
     "output_type": "stream",
     "text": [
      "tensor([[0.2666, 0.2041, 0.1615,  ..., 0.0000, 0.0000, 0.0000],\n",
      "        [0.2041, 0.2783, 0.2536,  ..., 0.0000, 0.0000, 0.0000],\n",
      "        [0.1615, 0.2536, 0.3306,  ..., 0.0000, 0.0000, 0.0000],\n",
      "        ...,\n",
      "        [0.0000, 0.0000, 0.0000,  ..., 0.2853, 0.2258, 0.1542],\n",
      "        [0.0000, 0.0000, 0.0000,  ..., 0.2258, 0.2858, 0.2174],\n",
      "        [0.0000, 0.0000, 0.0000,  ..., 0.1542, 0.2174, 0.2554]],\n",
      "       grad_fn=<MulBackward0>)\n"
     ]
    }
   ],
   "source": [
    "model.eval()\n",
    "with gpytorch.settings.prior_mode(), gpytorch.settings.max_cholesky_size(0):\n",
    "    print(model(train_x).covariance_matrix)"
   ]
  },
  {
   "cell_type": "code",
   "execution_count": 58,
   "metadata": {},
   "outputs": [
    {
     "data": {
      "image/png": "[encoded data removed]",
      "text/plain": [
       "<Figure size 288x216 with 2 Axes>"
      ]
     },
     "metadata": {
      "needs_background": "light"
     },
     "output_type": "display_data"
    },
    {
     "data": {
      "image/png": "[encoded data removed]",
      "text/plain": [
       "<Figure size 288x216 with 2 Axes>"
      ]
     },
     "metadata": {
      "needs_background": "light"
     },
     "output_type": "display_data"
    },
    {
     "data": {
      "image/png": "[encoded data removed]",
      "text/plain": [
       "<Figure size 288x216 with 2 Axes>"
      ]
     },
     "metadata": {
      "needs_background": "light"
     },
     "output_type": "display_data"
    }
   ],
   "source": [
    "# Set model and likelihood into evaluation mode\n",
    "model.eval()\n",
    "likelihood.eval()\n",
    "\n",
    "# Generate nxn grid of test points spaced on a grid of size 1/(n-1) in [0,1]x[0,1]\n",
    "n = 10\n",
    "test_x = torch.zeros(int(pow(n, 2)), 2)\n",
    "for i in range(n):\n",
    "    for j in range(n):\n",
    "        test_x[i * n + j][0] = float(i) / (n-1)\n",
    "        test_x[i * n + j][1] = float(j) / (n-1)\n",
    "\n",
    "with torch.no_grad(), gpytorch.settings.fast_pred_var():\n",
    "    observed_pred = likelihood(model(test_x))\n",
    "    pred_labels = observed_pred.mean.view(n, n)\n",
    "\n",
    "# Calc abosolute error\n",
    "test_y_actual = torch.sin(((test_x[:, 0] + test_x[:, 1]) * (2 * math.pi))).view(n, n)\n",
    "delta_y = torch.abs(pred_labels - test_y_actual).detach().numpy()\n",
    "\n",
    "# Define a plotting function\n",
    "def ax_plot(f, ax, y_labels, title):\n",
    "    if smoke_test: return  # this is for running the notebook in our testing framework\n",
    "    im = ax.imshow(y_labels)\n",
    "    ax.set_title(title)\n",
    "    f.colorbar(im)\n",
    "\n",
    "# Plot our predictive means\n",
    "f, observed_ax = plt.subplots(1, 1, figsize=(4, 3))\n",
    "ax_plot(f, observed_ax, pred_labels, 'Predicted Values (Likelihood)')\n",
    "\n",
    "# Plot the true values\n",
    "f, observed_ax2 = plt.subplots(1, 1, figsize=(4, 3))\n",
    "ax_plot(f, observed_ax2, test_y_actual, 'Actual Values (Likelihood)')\n",
    "\n",
    "# Plot the absolute errors\n",
    "f, observed_ax3 = plt.subplots(1, 1, figsize=(4, 3))\n",
    "ax_plot(f, observed_ax3, delta_y, 'Absolute Error Surface')"
   ]
  },
  {
   "cell_type": "code",
   "execution_count": null,
   "metadata": {},
   "outputs": [],
   "source": []
  },
  {
   "cell_type": "code",
   "execution_count": null,
   "metadata": {},
   "outputs": [],
   "source": []
  }
 ],
 "metadata": {
  "anaconda-cloud": {},
  "kernelspec": {
   "display_name": "Python 3",
   "language": "python",
   "name": "python3"
  },
  "language_info": {
   "codemirror_mode": {
    "name": "ipython",
    "version": 3
   },
   "file_extension": ".py",
   "mimetype": "text/x-python",
   "name": "python",
   "nbconvert_exporter": "python",
   "pygments_lexer": "ipython3",
   "version": "3.7.0"
  }
 },
 "nbformat": 4,
 "nbformat_minor": 1
}
