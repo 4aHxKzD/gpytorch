{
 "cells": [
  {
   "cell_type": "code",
   "execution_count": 1,
   "metadata": {},
   "outputs": [],
   "source": [
    "import math\n",
    "import torch\n",
    "import gpytorch\n",
    "from matplotlib import pyplot as plt\n",
    "\n",
    "%matplotlib inline\n",
    "%load_ext autoreload\n",
    "%autoreload 2"
   ]
  },
  {
   "cell_type": "code",
   "execution_count": 2,
   "metadata": {},
   "outputs": [],
   "source": [
    "# We make an nxn grid of training points spaced every 1/(n-1) on [0,1]x[0,1]\n",
    "n = 10\n",
    "train_x = torch.zeros(pow(n, 2), 2)\n",
    "for i in range(n):\n",
    "    for j in range(n):\n",
    "        train_x[i * n + j][0] = float(i) / (n-1)\n",
    "        train_x[i * n + j][1] = float(j) / (n-1)\n",
    "# True function is sin( 2*pi*(x0+x1))\n",
    "train_y = torch.sin((train_x[:, 0] + train_x[:, 1]) * (2 * math.pi)) + torch.randn_like(train_x[:, 0]).mul(0.01)"
   ]
  },
  {
   "cell_type": "code",
   "execution_count": 3,
   "metadata": {},
   "outputs": [],
   "source": [
    "# We will use the simplest form of GP model, exact inference\n",
    "class ExactGPModel(gpytorch.models.ExactGP):\n",
    "    def __init__(self, train_x, train_y, likelihood):\n",
    "        super(ExactGPModel, self).__init__(train_x, train_y, likelihood)\n",
    "        self.mean_module = gpytorch.means.ConstantMean()\n",
    "        self.covar_module = gpytorch.kernels.ScaleKernel(gpytorch.kernels.WLSHKernel(\n",
    "            num_samples=256, ard_num_dims=2, num_dims=2,\n",
    "        ))\n",
    "    \n",
    "    def forward(self, x):\n",
    "        mean_x = self.mean_module(x)\n",
    "        covar_x = self.covar_module(x)\n",
    "        return gpytorch.distributions.MultivariateNormal(mean_x, covar_x)\n",
    "\n",
    "# initialize likelihood and model\n",
    "likelihood = gpytorch.likelihoods.GaussianLikelihood()\n",
    "model = ExactGPModel(train_x, train_y, likelihood)"
   ]
  },
  {
   "cell_type": "code",
   "execution_count": 4,
   "metadata": {
    "scrolled": false
   },
   "outputs": [
    {
     "name": "stdout",
     "output_type": "stream",
     "text": [
      "20\n",
      "Iter 1/50 - Loss: 1.125   lengthscale: 0.693   os: 0.693    noise: 0.693\n",
      "20\n",
      "Iter 2/50 - Loss: 1.124   lengthscale: 0.694   os: 0.644    noise: 0.644\n",
      "20\n",
      "Iter 3/50 - Loss: 1.091   lengthscale: 0.670   os: 0.598    noise: 0.599\n",
      "20\n",
      "Iter 4/50 - Loss: 1.099   lengthscale: 0.634   os: 0.560    noise: 0.556\n",
      "20\n",
      "Iter 5/50 - Loss: 1.102   lengthscale: 0.596   os: 0.524    noise: 0.516\n",
      "20\n",
      "Iter 6/50 - Loss: 1.078   lengthscale: 0.560   os: 0.491    noise: 0.481\n",
      "20\n",
      "Iter 7/50 - Loss: 1.072   lengthscale: 0.523   os: 0.476    noise: 0.449\n",
      "20\n",
      "Iter 8/50 - Loss: 1.062   lengthscale: 0.487   os: 0.478    noise: 0.421\n",
      "20\n",
      "Iter 9/50 - Loss: 1.056   lengthscale: 0.452   os: 0.493    noise: 0.397\n",
      "20\n",
      "Iter 10/50 - Loss: 1.040   lengthscale: 0.418   os: 0.517    noise: 0.377\n",
      "20\n",
      "Iter 11/50 - Loss: 1.014   lengthscale: 0.387   os: 0.546    noise: 0.359\n",
      "20\n",
      "Iter 12/50 - Loss: 0.995   lengthscale: 0.357   os: 0.580    noise: 0.341\n",
      "20\n",
      "Iter 13/50 - Loss: 0.957   lengthscale: 0.329   os: 0.619    noise: 0.324\n",
      "20\n",
      "Iter 14/50 - Loss: 0.932   lengthscale: 0.302   os: 0.662    noise: 0.305\n",
      "20\n",
      "Iter 15/50 - Loss: 0.884   lengthscale: 0.276   os: 0.709    noise: 0.285\n",
      "20\n",
      "Iter 16/50 - Loss: 0.826   lengthscale: 0.252   os: 0.761    noise: 0.264\n",
      "20\n",
      "Iter 17/50 - Loss: 0.843   lengthscale: 0.230   os: 0.817    noise: 0.244\n",
      "20\n",
      "Iter 18/50 - Loss: 0.749   lengthscale: 0.209   os: 0.876    noise: 0.224\n",
      "20\n",
      "Iter 19/50 - Loss: 0.706   lengthscale: 0.190   os: 0.939    noise: 0.205\n",
      "20\n",
      "Iter 20/50 - Loss: 0.648   lengthscale: 0.173   os: 1.003    noise: 0.186\n",
      "20\n",
      "Iter 21/50 - Loss: 0.623   lengthscale: 0.158   os: 1.068    noise: 0.169\n",
      "20\n",
      "Iter 22/50 - Loss: 0.570   lengthscale: 0.144   os: 1.130    noise: 0.152\n",
      "20\n",
      "Iter 23/50 - Loss: 0.568   lengthscale: 0.134   os: 1.186    noise: 0.137\n",
      "20\n",
      "Iter 24/50 - Loss: 0.559   lengthscale: 0.126   os: 1.231    noise: 0.123\n",
      "20\n",
      "Iter 25/50 - Loss: 0.525   lengthscale: 0.120   os: 1.262    noise: 0.110\n",
      "20\n",
      "Iter 26/50 - Loss: 0.490   lengthscale: 0.116   os: 1.278    noise: 0.099\n",
      "20\n",
      "Iter 27/50 - Loss: 0.489   lengthscale: 0.112   os: 1.280    noise: 0.088\n",
      "20\n",
      "Iter 28/50 - Loss: 0.482   lengthscale: 0.110   os: 1.267    noise: 0.079\n",
      "20\n",
      "Iter 29/50 - Loss: 0.465   lengthscale: 0.110   os: 1.242    noise: 0.071\n",
      "20\n",
      "Iter 30/50 - Loss: 0.404   lengthscale: 0.113   os: 1.207    noise: 0.063\n",
      "20\n",
      "Iter 31/50 - Loss: 0.383   lengthscale: 0.117   os: 1.166    noise: 0.057\n",
      "20\n",
      "Iter 32/50 - Loss: 0.301   lengthscale: 0.121   os: 1.120    noise: 0.051\n",
      "20\n",
      "Iter 33/50 - Loss: 0.290   lengthscale: 0.126   os: 1.071    noise: 0.045\n",
      "20\n",
      "Iter 34/50 - Loss: 0.283   lengthscale: 0.133   os: 1.022    noise: 0.040\n",
      "20\n",
      "Iter 35/50 - Loss: 0.223   lengthscale: 0.140   os: 0.974    noise: 0.036\n",
      "20\n",
      "Iter 36/50 - Loss: 0.265   lengthscale: 0.149   os: 0.930    noise: 0.032\n",
      "20\n",
      "Iter 37/50 - Loss: 0.200   lengthscale: 0.156   os: 0.892    noise: 0.029\n",
      "20\n",
      "Iter 38/50 - Loss: 0.157   lengthscale: 0.163   os: 0.863    noise: 0.026\n",
      "20\n",
      "Iter 39/50 - Loss: 0.127   lengthscale: 0.171   os: 0.846    noise: 0.023\n",
      "20\n",
      "Iter 40/50 - Loss: 0.176   lengthscale: 0.177   os: 0.840    noise: 0.021\n",
      "20\n",
      "Iter 41/50 - Loss: 0.089   lengthscale: 0.176   os: 0.846    noise: 0.019\n",
      "20\n",
      "Iter 42/50 - Loss: 0.049   lengthscale: 0.170   os: 0.863    noise: 0.017\n",
      "20\n",
      "Iter 43/50 - Loss: 0.081   lengthscale: 0.166   os: 0.887    noise: 0.015\n",
      "20\n",
      "Iter 44/50 - Loss: 0.096   lengthscale: 0.163   os: 0.914    noise: 0.013\n",
      "20\n",
      "Iter 45/50 - Loss: 0.026   lengthscale: 0.164   os: 0.943    noise: 0.012\n",
      "20\n",
      "Iter 46/50 - Loss: -0.051   lengthscale: 0.167   os: 0.972    noise: 0.011\n",
      "20\n",
      "Iter 47/50 - Loss: -0.058   lengthscale: 0.172   os: 1.003    noise: 0.010\n",
      "20\n",
      "Iter 48/50 - Loss: -0.045   lengthscale: 0.175   os: 1.033    noise: 0.009\n",
      "20\n",
      "Iter 49/50 - Loss: -0.029   lengthscale: 0.175   os: 1.064    noise: 0.008\n",
      "20\n",
      "Iter 50/50 - Loss: -0.066   lengthscale: 0.172   os: 1.093    noise: 0.007\n"
     ]
    }
   ],
   "source": [
    "# this is for running the notebook in our testing framework\n",
    "import os\n",
    "smoke_test = ('CI' in os.environ)\n",
    "training_iter = 100 if smoke_test else 50\n",
    "\n",
    "\n",
    "# Find optimal model hyperparameters\n",
    "model.train()\n",
    "likelihood.train()\n",
    "\n",
    "# Use the adam optimizer\n",
    "optimizer = torch.optim.Adam(model.parameters(), lr=0.1)  # Includes GaussianLikelihood parameters\n",
    "\n",
    "# \"Loss\" for GPs - the marginal log likelihood\n",
    "mll = gpytorch.mlls.ExactMarginalLogLikelihood(likelihood, model)\n",
    "\n",
    "with gpytorch.settings.max_cholesky_size(0):\n",
    "    for i in range(training_iter):\n",
    "        # Zero gradients from previous iteration\n",
    "        optimizer.zero_grad()\n",
    "        # Output from model\n",
    "        output = model(train_x)\n",
    "        # Calc loss and backprop gradients\n",
    "        loss = -mll(output, train_y)\n",
    "        loss.backward()\n",
    "        print('Iter %d/%d - Loss: %.3f   lengthscale: %.3f   os: %.3f    noise: %.3f' % (\n",
    "            i + 1, training_iter, loss.item(),\n",
    "            model.covar_module.base_kernel.lengthscale.mean().item(),\n",
    "            model.covar_module.outputscale.item(),\n",
    "            model.likelihood.noise.item()\n",
    "        ))\n",
    "        optimizer.step()"
   ]
  },
  {
   "cell_type": "code",
   "execution_count": 5,
   "metadata": {},
   "outputs": [
    {
     "name": "stdout",
     "output_type": "stream",
     "text": [
      "tensor([[4.9059e-01, 4.1849e-01, 3.0959e-01,  ..., 6.3372e-04, 4.1034e-04,\n",
      "         3.0468e-04],\n",
      "        [4.1849e-01, 5.1621e-01, 4.4812e-01,  ..., 1.1557e-03, 8.1383e-04,\n",
      "         6.4520e-04],\n",
      "        [3.0959e-01, 4.4812e-01, 5.2416e-01,  ..., 1.4005e-03, 1.0106e-03,\n",
      "         8.0546e-04],\n",
      "        ...,\n",
      "        [6.3372e-04, 1.1557e-03, 1.4005e-03,  ..., 5.6856e-01, 4.9206e-01,\n",
      "         3.5599e-01],\n",
      "        [4.1034e-04, 8.1383e-04, 1.0106e-03,  ..., 4.9206e-01, 5.9348e-01,\n",
      "         4.9424e-01],\n",
      "        [3.0468e-04, 6.4520e-04, 8.0546e-04,  ..., 3.5599e-01, 4.9424e-01,\n",
      "         5.6692e-01]], grad_fn=<SumBackward1>)\n"
     ]
    }
   ],
   "source": [
    "model.eval()\n",
    "with gpytorch.settings.prior_mode(), gpytorch.settings.max_cholesky_size(0):\n",
    "    print(model(train_x).covariance_matrix)"
   ]
  },
  {
   "cell_type": "code",
   "execution_count": 6,
   "metadata": {},
   "outputs": [
    {
     "name": "stderr",
     "output_type": "stream",
     "text": [
      "/home/gpleiss/workspace/gpytorch/gpytorch/models/exact_gp.py:284: GPInputWarning: The input matches the stored training data. Did you forget to call model.train()?\n",
      "  GPInputWarning,\n"
     ]
    },
    {
     "data": {
      "image/png": "[encoded data removed]",
      "text/plain": [
       "<Figure size 288x216 with 2 Axes>"
      ]
     },
     "metadata": {
      "needs_background": "light"
     },
     "output_type": "display_data"
    },
    {
     "data": {
      "image/png": "[encoded data removed]",
      "text/plain": [
       "<Figure size 288x216 with 2 Axes>"
      ]
     },
     "metadata": {
      "needs_background": "light"
     },
     "output_type": "display_data"
    },
    {
     "data": {
      "image/png": "[encoded data removed]",
      "text/plain": [
       "<Figure size 288x216 with 2 Axes>"
      ]
     },
     "metadata": {
      "needs_background": "light"
     },
     "output_type": "display_data"
    }
   ],
   "source": [
    "# Set model and likelihood into evaluation mode\n",
    "model.eval()\n",
    "likelihood.eval()\n",
    "\n",
    "# Generate nxn grid of test points spaced on a grid of size 1/(n-1) in [0,1]x[0,1]\n",
    "n = 10\n",
    "test_x = torch.zeros(int(pow(n, 2)), 2)\n",
    "for i in range(n):\n",
    "    for j in range(n):\n",
    "        test_x[i * n + j][0] = float(i) / (n-1)\n",
    "        test_x[i * n + j][1] = float(j) / (n-1)\n",
    "\n",
    "with torch.no_grad(), gpytorch.settings.fast_pred_var():\n",
    "    observed_pred = likelihood(model(test_x))\n",
    "    pred_labels = observed_pred.mean.view(n, n)\n",
    "\n",
    "# Calc abosolute error\n",
    "test_y_actual = torch.sin(((test_x[:, 0] + test_x[:, 1]) * (2 * math.pi))).view(n, n)\n",
    "delta_y = torch.abs(pred_labels - test_y_actual).detach().numpy()\n",
    "\n",
    "# Define a plotting function\n",
    "def ax_plot(f, ax, y_labels, title):\n",
    "    if smoke_test: return  # this is for running the notebook in our testing framework\n",
    "    im = ax.imshow(y_labels)\n",
    "    ax.set_title(title)\n",
    "    f.colorbar(im)\n",
    "\n",
    "# Plot our predictive means\n",
    "f, observed_ax = plt.subplots(1, 1, figsize=(4, 3))\n",
    "ax_plot(f, observed_ax, pred_labels, 'Predicted Values (Likelihood)')\n",
    "\n",
    "# Plot the true values\n",
    "f, observed_ax2 = plt.subplots(1, 1, figsize=(4, 3))\n",
    "ax_plot(f, observed_ax2, test_y_actual, 'Actual Values (Likelihood)')\n",
    "\n",
    "# Plot the absolute errors\n",
    "f, observed_ax3 = plt.subplots(1, 1, figsize=(4, 3))\n",
    "ax_plot(f, observed_ax3, delta_y, 'Absolute Error Surface')"
   ]
  },
  {
   "cell_type": "code",
   "execution_count": null,
   "metadata": {},
   "outputs": [],
   "source": []
  },
  {
   "cell_type": "code",
   "execution_count": null,
   "metadata": {},
   "outputs": [],
   "source": []
  }
 ],
 "metadata": {
  "anaconda-cloud": {},
  "kernelspec": {
   "display_name": "Python 3",
   "language": "python",
   "name": "python3"
  },
  "language_info": {
   "codemirror_mode": {
    "name": "ipython",
    "version": 3
   },
   "file_extension": ".py",
   "mimetype": "text/x-python",
   "name": "python",
   "nbconvert_exporter": "python",
   "pygments_lexer": "ipython3",
   "version": "3.7.0"
  }
 },
 "nbformat": 4,
 "nbformat_minor": 1
}
