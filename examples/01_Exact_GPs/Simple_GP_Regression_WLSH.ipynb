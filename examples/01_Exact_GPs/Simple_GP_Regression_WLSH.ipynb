{
 "cells": [
  {
   "cell_type": "markdown",
   "metadata": {},
   "source": [
    "# GPyTorch Regression Tutorial\n",
    "\n",
    "## Introduction\n",
    "\n",
    "In this notebook, we demonstrate many of the design features of GPyTorch using the simplest example, training an RBF kernel Gaussian process on a simple function. We'll be modeling the function\n",
    "\n",
    "\\begin{align}\n",
    "y &= \\sin(2\\pi x) + \\epsilon \\\\\n",
    "  \\epsilon &\\sim \\mathcal{N}(0, 0.04) \n",
    "\\end{align}\n",
    "\n",
    "with 100 training examples, and testing on 51 test examples.\n",
    "\n",
    "**Note:** this notebook is not necessarily intended to teach the mathematical background of Gaussian processes, but rather how to train a simple one and make predictions in GPyTorch. For a mathematical treatment, Chapter 2 of Gaussian Processes for Machine Learning provides a very thorough introduction to GP regression (this entire text is highly recommended): http://www.gaussianprocess.org/gpml/chapters/RW2.pdf"
   ]
  },
  {
   "cell_type": "code",
   "execution_count": 1,
   "metadata": {},
   "outputs": [],
   "source": [
    "import math\n",
    "import torch\n",
    "import gpytorch\n",
    "from matplotlib import pyplot as plt\n",
    "\n",
    "%matplotlib inline\n",
    "%load_ext autoreload\n",
    "%autoreload 2"
   ]
  },
  {
   "cell_type": "markdown",
   "metadata": {},
   "source": [
    "### Set up training data\n",
    "\n",
    "In the next cell, we set up the training data for this example. We'll be using 100 regularly spaced points on [0,1] which we evaluate the function on and add Gaussian noise to get the training labels."
   ]
  },
  {
   "cell_type": "code",
   "execution_count": 2,
   "metadata": {},
   "outputs": [],
   "source": [
    "# Training data is 100 points in [0,1] inclusive regularly spaced\n",
    "train_x = torch.linspace(0., 3., 15)\n",
    "# True function is sin(2*pi*x) with Gaussian noise\n",
    "train_y = torch.sin(train_x / 3. * (2 * math.pi)) + torch.randn(train_x.size()) * math.sqrt(0.04)"
   ]
  },
  {
   "cell_type": "markdown",
   "metadata": {},
   "source": [
    "## Setting up the model\n",
    "\n",
    "The next cell demonstrates the most critical features of a user-defined Gaussian process model in GPyTorch. Building a GP model in GPyTorch is different in a number of ways.\n",
    "\n",
    "First in contrast to many existing GP packages, we do not provide full GP models for the user. Rather, we provide *the tools necessary to quickly construct one*. This is because we believe, analogous to building a neural network in standard PyTorch, it is important to have the flexibility to include whatever components are necessary. As can be seen in more complicated examples, this allows the user great flexibility in designing custom models.\n",
    "\n",
    "For most GP regression models, you will need to construct the following GPyTorch objects:\n",
    "\n",
    "1. A **GP Model** (`gpytorch.models.ExactGP`) -  This handles most of the inference.\n",
    "1. A **Likelihood** (`gpytorch.likelihoods.GaussianLikelihood`) - This is the most common likelihood used for GP regression.\n",
    "1. A **Mean** - This defines the prior mean of the GP.(If you don't know which mean to use, a `gpytorch.means.ConstantMean()` is a good place to start.)\n",
    "1. A **Kernel** - This defines the prior covariance of the GP.(If you don't know which kernel to use, a `gpytorch.kernels.ScaleKernel(gpytorch.kernels.RBFKernel())` is a good place to start).\n",
    "1. A **MultivariateNormal** Distribution (`gpytorch.distributions.MultivariateNormal`) - This is the object used to represent multivariate normal distributions.\n",
    "  \n",
    "  \n",
    "### The GP Model\n",
    "  \n",
    "The components of a user built (Exact, i.e. non-variational) GP model in GPyTorch are, broadly speaking:\n",
    "\n",
    "1. An `__init__` method that takes the training data and a likelihood, and constructs whatever objects are necessary for the model's `forward` method. This will most commonly include things like a mean module and a kernel module.\n",
    "\n",
    "2. A `forward` method that takes in some $n \\times d$ data `x` and returns a `MultivariateNormal` with the *prior* mean and covariance evaluated at `x`. In other words, we return the vector $\\mu(x)$ and the $n \\times n$ matrix $K_{xx}$ representing the prior mean and covariance matrix of the GP. \n",
    "\n",
    "This specification leaves a large amount of flexibility when defining a model. For example, to compose two kernels via addition, you can either add the kernel modules directly:\n",
    "\n",
    "```python\n",
    "self.covar_module = ScaleKernel(RBFKernel() + WhiteNoiseKernel())\n",
    "```\n",
    "\n",
    "Or you can add the outputs of the kernel in the forward method:\n",
    "\n",
    "```python\n",
    "covar_x = self.rbf_kernel_module(x) + self.white_noise_module(x)\n",
    "```"
   ]
  },
  {
   "cell_type": "code",
   "execution_count": 3,
   "metadata": {},
   "outputs": [],
   "source": [
    "# We will use the simplest form of GP model, exact inference\n",
    "class ExactGPModel(gpytorch.models.ExactGP):\n",
    "    def __init__(self, train_x, train_y, likelihood):\n",
    "        super(ExactGPModel, self).__init__(train_x, train_y, likelihood)\n",
    "        self.mean_module = gpytorch.means.ConstantMean()\n",
    "        self.covar_module = gpytorch.kernels.ScaleKernel(gpytorch.kernels.WLSHKernel(num_samples=100, num_dims=1))\n",
    "    \n",
    "    def forward(self, x):\n",
    "        mean_x = self.mean_module(x)\n",
    "        covar_x = self.covar_module(x)\n",
    "        return gpytorch.distributions.MultivariateNormal(mean_x, covar_x)\n",
    "\n",
    "# initialize likelihood and model\n",
    "likelihood = gpytorch.likelihoods.GaussianLikelihood()\n",
    "model = ExactGPModel(train_x, train_y, likelihood)"
   ]
  },
  {
   "cell_type": "markdown",
   "metadata": {},
   "source": [
    "### Model modes\n",
    "\n",
    "Like most PyTorch modules, the `ExactGP` has a `.train()` and `.eval()` mode.\n",
    "- `.train()` mode is for optimizing model hyperameters.\n",
    "- `.eval()` mode is for computing predictions through the model posterior."
   ]
  },
  {
   "cell_type": "markdown",
   "metadata": {},
   "source": [
    "## Training the model\n",
    "\n",
    "In the next cell, we handle using Type-II MLE to train the hyperparameters of the Gaussian process.\n",
    "\n",
    "The most obvious difference here compared to many other GP implementations is that, as in standard PyTorch, the core training loop is written by the user. In GPyTorch, we make use of the standard PyTorch optimizers as from `torch.optim`, and all trainable parameters of the model should be of type `torch.nn.Parameter`. Because GP models directly extend `torch.nn.Module`, calls to methods like `model.parameters()` or `model.named_parameters()` function as you might expect coming from PyTorch.\n",
    "\n",
    "In most cases, the boilerplate code below will work well. It has the same basic components as the standard PyTorch training loop:\n",
    "\n",
    "1. Zero all parameter gradients\n",
    "2. Call the model and compute the loss\n",
    "3. Call backward on the loss to fill in gradients\n",
    "4. Take a step on the optimizer\n",
    "\n",
    "However, defining custom training loops allows for greater flexibility. For example, it is easy to save the parameters at each step of training, or use different learning rates for different parameters (which may be useful in deep kernel learning for example)."
   ]
  },
  {
   "cell_type": "code",
   "execution_count": 4,
   "metadata": {
    "scrolled": false
   },
   "outputs": [
    {
     "name": "stdout",
     "output_type": "stream",
     "text": [
      "Iter 1/50 - Loss: 1.044   lengthscale: 0.693   os: 0.693    noise: 0.693\n",
      "Iter 2/50 - Loss: 1.062   lengthscale: 0.644   os: 0.644    noise: 0.644\n",
      "Iter 3/50 - Loss: 0.937   lengthscale: 0.605   os: 0.598    noise: 0.598\n",
      "Iter 4/50 - Loss: 0.965   lengthscale: 0.609   os: 0.561    noise: 0.554\n",
      "Iter 5/50 - Loss: 0.925   lengthscale: 0.627   os: 0.524    noise: 0.513\n",
      "Iter 6/50 - Loss: 0.871   lengthscale: 0.654   os: 0.491    noise: 0.474\n",
      "Iter 7/50 - Loss: 0.869   lengthscale: 0.678   os: 0.464    noise: 0.437\n",
      "Iter 8/50 - Loss: 0.827   lengthscale: 0.677   os: 0.442    noise: 0.403\n",
      "Iter 9/50 - Loss: 0.839   lengthscale: 0.663   os: 0.425    noise: 0.371\n",
      "Iter 10/50 - Loss: 0.796   lengthscale: 0.639   os: 0.412    noise: 0.341\n",
      "Iter 11/50 - Loss: 0.759   lengthscale: 0.614   os: 0.407    noise: 0.313\n",
      "Iter 12/50 - Loss: 0.789   lengthscale: 0.599   os: 0.407    noise: 0.287\n",
      "Iter 13/50 - Loss: 0.767   lengthscale: 0.584   os: 0.410    noise: 0.264\n",
      "Iter 14/50 - Loss: 0.723   lengthscale: 0.570   os: 0.415    noise: 0.242\n",
      "Iter 15/50 - Loss: 0.676   lengthscale: 0.556   os: 0.423    noise: 0.222\n",
      "Iter 16/50 - Loss: 0.655   lengthscale: 0.538   os: 0.436    noise: 0.203\n",
      "Iter 17/50 - Loss: 0.615   lengthscale: 0.514   os: 0.455    noise: 0.186\n",
      "Iter 18/50 - Loss: 0.616   lengthscale: 0.487   os: 0.478    noise: 0.170\n",
      "Iter 19/50 - Loss: 0.597   lengthscale: 0.457   os: 0.502    noise: 0.155\n",
      "Iter 20/50 - Loss: 0.537   lengthscale: 0.427   os: 0.525    noise: 0.142\n",
      "Iter 21/50 - Loss: 0.637   lengthscale: 0.399   os: 0.543    noise: 0.129\n",
      "Iter 22/50 - Loss: 0.477   lengthscale: 0.380   os: 0.550    noise: 0.118\n",
      "Iter 23/50 - Loss: 0.460   lengthscale: 0.372   os: 0.550    noise: 0.108\n",
      "Iter 24/50 - Loss: 0.443   lengthscale: 0.371   os: 0.546    noise: 0.098\n",
      "Iter 25/50 - Loss: 0.416   lengthscale: 0.378   os: 0.538    noise: 0.090\n",
      "Iter 26/50 - Loss: 0.481   lengthscale: 0.390   os: 0.529    noise: 0.082\n",
      "Iter 27/50 - Loss: 0.379   lengthscale: 0.400   os: 0.514    noise: 0.074\n",
      "Iter 28/50 - Loss: 0.356   lengthscale: 0.411   os: 0.499    noise: 0.068\n",
      "Iter 29/50 - Loss: 0.400   lengthscale: 0.424   os: 0.487    noise: 0.062\n",
      "Iter 30/50 - Loss: 0.381   lengthscale: 0.436   os: 0.477    noise: 0.057\n",
      "Iter 31/50 - Loss: 0.306   lengthscale: 0.447   os: 0.471    noise: 0.052\n",
      "Iter 32/50 - Loss: 0.351   lengthscale: 0.448   os: 0.471    noise: 0.047\n",
      "Iter 33/50 - Loss: 0.326   lengthscale: 0.440   os: 0.477    noise: 0.043\n",
      "Iter 34/50 - Loss: 0.254   lengthscale: 0.437   os: 0.485    noise: 0.040\n",
      "Iter 35/50 - Loss: 0.227   lengthscale: 0.429   os: 0.499    noise: 0.037\n",
      "Iter 36/50 - Loss: 0.366   lengthscale: 0.416   os: 0.516    noise: 0.034\n",
      "Iter 37/50 - Loss: 0.197   lengthscale: 0.401   os: 0.528    noise: 0.031\n",
      "Iter 38/50 - Loss: 0.345   lengthscale: 0.385   os: 0.539    noise: 0.029\n",
      "Iter 39/50 - Loss: 0.299   lengthscale: 0.370   os: 0.541    noise: 0.027\n",
      "Iter 40/50 - Loss: 0.276   lengthscale: 0.377   os: 0.538    noise: 0.025\n",
      "Iter 41/50 - Loss: 0.298   lengthscale: 0.388   os: 0.529    noise: 0.023\n",
      "Iter 42/50 - Loss: 0.268   lengthscale: 0.399   os: 0.515    noise: 0.021\n",
      "Iter 43/50 - Loss: 0.232   lengthscale: 0.405   os: 0.501    noise: 0.020\n",
      "Iter 44/50 - Loss: 0.373   lengthscale: 0.406   os: 0.489    noise: 0.019\n",
      "Iter 45/50 - Loss: 0.226   lengthscale: 0.401   os: 0.477    noise: 0.018\n",
      "Iter 46/50 - Loss: 0.187   lengthscale: 0.390   os: 0.469    noise: 0.016\n",
      "Iter 47/50 - Loss: 0.268   lengthscale: 0.380   os: 0.465    noise: 0.016\n",
      "Iter 48/50 - Loss: 0.254   lengthscale: 0.373   os: 0.460    noise: 0.015\n",
      "Iter 49/50 - Loss: 0.238   lengthscale: 0.372   os: 0.457    noise: 0.014\n",
      "Iter 50/50 - Loss: 0.315   lengthscale: 0.381   os: 0.455    noise: 0.013\n"
     ]
    }
   ],
   "source": [
    "# this is for running the notebook in our testing framework\n",
    "import os\n",
    "smoke_test = ('CI' in os.environ)\n",
    "training_iter = 2 if smoke_test else 50\n",
    "\n",
    "\n",
    "# Find optimal model hyperparameters\n",
    "model.train()\n",
    "likelihood.train()\n",
    "\n",
    "# Use the adam optimizer\n",
    "optimizer = torch.optim.Adam(model.parameters(), lr=0.1)  # Includes GaussianLikelihood parameters\n",
    "\n",
    "# \"Loss\" for GPs - the marginal log likelihood\n",
    "mll = gpytorch.mlls.ExactMarginalLogLikelihood(likelihood, model)\n",
    "\n",
    "with gpytorch.settings.max_cholesky_size(0), gpytorch.settings.lazily_evaluate_kernels(False):\n",
    "    for i in range(training_iter):\n",
    "        # Zero gradients from previous iteration\n",
    "        optimizer.zero_grad()\n",
    "        # Output from model\n",
    "        output = model(train_x)\n",
    "        # Calc loss and backprop gradients\n",
    "        loss = -mll(output, train_y)\n",
    "        loss.backward()\n",
    "        print('Iter %d/%d - Loss: %.3f   lengthscale: %.3f   os: %.3f    noise: %.3f' % (\n",
    "            i + 1, training_iter, loss.item(),\n",
    "            model.covar_module.base_kernel.lengthscale.item(),\n",
    "            model.covar_module.outputscale.item(),\n",
    "            model.likelihood.noise.item()\n",
    "        ))\n",
    "        optimizer.step()"
   ]
  },
  {
   "cell_type": "code",
   "execution_count": 5,
   "metadata": {},
   "outputs": [
    {
     "name": "stdout",
     "output_type": "stream",
     "text": [
      "tensor([[0.2806, 0.2415, 0.1877, 0.1365, 0.1100, 0.0806, 0.0590, 0.0453, 0.0312,\n",
      "         0.0189, 0.0126, 0.0080, 0.0035, 0.0013, 0.0010],\n",
      "        [0.2415, 0.2957, 0.2604, 0.2092, 0.1667, 0.1258, 0.0947, 0.0710, 0.0461,\n",
      "         0.0268, 0.0186, 0.0125, 0.0061, 0.0029, 0.0025],\n",
      "        [0.1877, 0.2604, 0.3059, 0.2804, 0.2371, 0.1872, 0.1414, 0.1066, 0.0674,\n",
      "         0.0345, 0.0234, 0.0156, 0.0079, 0.0042, 0.0038],\n",
      "        [0.1365, 0.2092, 0.2804, 0.3397, 0.3092, 0.2568, 0.2015, 0.1559, 0.0993,\n",
      "         0.0512, 0.0326, 0.0195, 0.0094, 0.0056, 0.0052],\n",
      "        [0.1100, 0.1667, 0.2371, 0.3092, 0.3414, 0.3072, 0.2496, 0.2015, 0.1267,\n",
      "         0.0735, 0.0458, 0.0260, 0.0130, 0.0082, 0.0077],\n",
      "        [0.0806, 0.1258, 0.1872, 0.2568, 0.3072, 0.3426, 0.2993, 0.2506, 0.1580,\n",
      "         0.1029, 0.0678, 0.0414, 0.0211, 0.0119, 0.0110],\n",
      "        [0.0590, 0.0947, 0.1414, 0.2015, 0.2496, 0.2993, 0.3242, 0.2935, 0.1982,\n",
      "         0.1386, 0.0911, 0.0575, 0.0307, 0.0178, 0.0160],\n",
      "        [0.0453, 0.0710, 0.1066, 0.1559, 0.2015, 0.2506, 0.2935, 0.3242, 0.2499,\n",
      "         0.1908, 0.1338, 0.0911, 0.0537, 0.0339, 0.0286],\n",
      "        [0.0312, 0.0461, 0.0674, 0.0993, 0.1267, 0.1580, 0.1982, 0.2499, 0.2805,\n",
      "         0.2490, 0.1893, 0.1381, 0.0864, 0.0582, 0.0474],\n",
      "        [0.0189, 0.0268, 0.0345, 0.0512, 0.0735, 0.1029, 0.1386, 0.1908, 0.2490,\n",
      "         0.2926, 0.2542, 0.2015, 0.1329, 0.0911, 0.0700],\n",
      "        [0.0126, 0.0186, 0.0234, 0.0326, 0.0458, 0.0678, 0.0911, 0.1338, 0.1893,\n",
      "         0.2542, 0.2914, 0.2612, 0.1875, 0.1390, 0.1125],\n",
      "        [0.0080, 0.0125, 0.0156, 0.0195, 0.0260, 0.0414, 0.0575, 0.0911, 0.1381,\n",
      "         0.2015, 0.2612, 0.3009, 0.2558, 0.2088, 0.1759],\n",
      "        [0.0035, 0.0061, 0.0079, 0.0094, 0.0130, 0.0211, 0.0307, 0.0537, 0.0864,\n",
      "         0.1329, 0.1875, 0.2558, 0.2933, 0.2701, 0.2348],\n",
      "        [0.0013, 0.0029, 0.0042, 0.0056, 0.0082, 0.0119, 0.0178, 0.0339, 0.0582,\n",
      "         0.0911, 0.1390, 0.2088, 0.2701, 0.3236, 0.3062],\n",
      "        [0.0010, 0.0025, 0.0038, 0.0052, 0.0077, 0.0110, 0.0160, 0.0286, 0.0474,\n",
      "         0.0700, 0.1125, 0.1759, 0.2348, 0.3062, 0.3443]],\n",
      "       grad_fn=<SumBackward1>)\n"
     ]
    }
   ],
   "source": [
    "model.eval()\n",
    "with gpytorch.settings.prior_mode(), gpytorch.settings.max_cholesky_size(0):\n",
    "    print(model(train_x).covariance_matrix)"
   ]
  },
  {
   "cell_type": "markdown",
   "metadata": {},
   "source": [
    "## Make predictions with the model\n",
    "\n",
    "In the next cell, we make predictions with the model. To do this, we simply put the model and likelihood in eval mode, and call both modules on the test data.\n",
    "\n",
    "Just as a user defined GP model returns a `MultivariateNormal` containing the prior mean and covariance from forward, a trained GP model in eval mode returns a `MultivariateNormal` containing the posterior mean and covariance. Thus, getting the predictive mean and variance, and then sampling functions from the GP at the given test points could be accomplished with calls like:\n",
    "\n",
    "```python\n",
    "f_preds = model(test_x)\n",
    "y_preds = likelihood(model(test_x))\n",
    "\n",
    "f_mean = f_preds.mean\n",
    "f_var = f_preds.variance\n",
    "f_covar = f_preds.covariance_matrix\n",
    "f_samples = f_preds.sample(sample_shape=torch.Size(1000,))\n",
    "```\n",
    "\n",
    "The `gpytorch.settings.fast_pred_var` context is not needed, but here we are giving a preview of using one of our cool features, getting faster predictive distributions using [LOVE](https://arxiv.org/abs/1803.06058)."
   ]
  },
  {
   "cell_type": "code",
   "execution_count": 6,
   "metadata": {},
   "outputs": [],
   "source": [
    "# Get into evaluation (predictive posterior) mode\n",
    "model.eval()\n",
    "likelihood.eval()\n",
    "\n",
    "# Test points are regularly spaced along [0,1]\n",
    "# Make predictions by feeding model through likelihood\n",
    "with torch.no_grad(), gpytorch.settings.fast_pred_var(), gpytorch.settings.max_cholesky_size(0):\n",
    "    with gpytorch.settings.lazily_evaluate_kernels(False):\n",
    "        test_x = torch.linspace(2, 6, 51)\n",
    "        observed_pred = likelihood(model(test_x))"
   ]
  },
  {
   "cell_type": "markdown",
   "metadata": {},
   "source": [
    "## Plot the model fit\n",
    "\n",
    "In the next cell, we plot the mean and confidence region of the Gaussian process model. The `confidence_region` method is a helper method that returns 2 standard deviations above and below the mean."
   ]
  },
  {
   "cell_type": "code",
   "execution_count": 7,
   "metadata": {
    "scrolled": false
   },
   "outputs": [
    {
     "data": {
      "image/png": "[encoded data removed]",
      "text/plain": [
       "<Figure size 288x216 with 1 Axes>"
      ]
     },
     "metadata": {
      "needs_background": "light"
     },
     "output_type": "display_data"
    }
   ],
   "source": [
    "with torch.no_grad():\n",
    "    # Initialize plot\n",
    "    f, ax = plt.subplots(1, 1, figsize=(4, 3))\n",
    "\n",
    "    # Get upper and lower confidence bounds\n",
    "    lower, upper = observed_pred.confidence_region()\n",
    "    # Plot training data as black stars\n",
    "    ax.plot(train_x.numpy(), train_y.numpy(), 'k*')\n",
    "    # Plot predictive means as blue line\n",
    "    ax.plot(test_x.numpy(), observed_pred.mean.numpy(), 'b')\n",
    "    # Shade between the lower and upper confidence bounds\n",
    "    ax.fill_between(test_x.numpy(), lower.numpy(), upper.numpy(), alpha=0.5)\n",
    "    ax.set_ylim([-3, 3])\n",
    "    ax.legend(['Observed Data', 'Mean', 'Confidence'])"
   ]
  },
  {
   "cell_type": "code",
   "execution_count": null,
   "metadata": {},
   "outputs": [],
   "source": []
  },
  {
   "cell_type": "code",
   "execution_count": null,
   "metadata": {},
   "outputs": [],
   "source": []
  },
  {
   "cell_type": "code",
   "execution_count": null,
   "metadata": {},
   "outputs": [],
   "source": []
  },
  {
   "cell_type": "code",
   "execution_count": null,
   "metadata": {},
   "outputs": [],
   "source": []
  },
  {
   "cell_type": "code",
   "execution_count": null,
   "metadata": {},
   "outputs": [],
   "source": []
  }
 ],
 "metadata": {
  "anaconda-cloud": {},
  "kernelspec": {
   "display_name": "Python 3",
   "language": "python",
   "name": "python3"
  },
  "language_info": {
   "codemirror_mode": {
    "name": "ipython",
    "version": 3
   },
   "file_extension": ".py",
   "mimetype": "text/x-python",
   "name": "python",
   "nbconvert_exporter": "python",
   "pygments_lexer": "ipython3",
   "version": "3.7.0"
  }
 },
 "nbformat": 4,
 "nbformat_minor": 1
}
