{
 "cells": [
  {
   "cell_type": "markdown",
   "metadata": {},
   "source": [
    "# GPyTorch Regression Tutorial\n",
    "\n",
    "## Introduction\n",
    "\n",
    "In this notebook, we demonstrate many of the design features of GPyTorch using the simplest example, training an RBF kernel Gaussian process on a simple function. We'll be modeling the function\n",
    "\n",
    "\\begin{align}\n",
    "y &= \\sin(2\\pi x) + \\epsilon \\\\\n",
    "  \\epsilon &\\sim \\mathcal{N}(0, 0.04) \n",
    "\\end{align}\n",
    "\n",
    "with 100 training examples, and testing on 51 test examples.\n",
    "\n",
    "**Note:** this notebook is not necessarily intended to teach the mathematical background of Gaussian processes, but rather how to train a simple one and make predictions in GPyTorch. For a mathematical treatment, Chapter 2 of Gaussian Processes for Machine Learning provides a very thorough introduction to GP regression (this entire text is highly recommended): http://www.gaussianprocess.org/gpml/chapters/RW2.pdf"
   ]
  },
  {
   "cell_type": "code",
   "execution_count": 1,
   "metadata": {},
   "outputs": [],
   "source": [
    "import math\n",
    "import torch\n",
    "import gpytorch\n",
    "from matplotlib import pyplot as plt\n",
    "\n",
    "%matplotlib inline\n",
    "%load_ext autoreload\n",
    "%autoreload 2"
   ]
  },
  {
   "cell_type": "markdown",
   "metadata": {},
   "source": [
    "### Set up training data\n",
    "\n",
    "In the next cell, we set up the training data for this example. We'll be using 100 regularly spaced points on [0,1] which we evaluate the function on and add Gaussian noise to get the training labels."
   ]
  },
  {
   "cell_type": "code",
   "execution_count": 2,
   "metadata": {},
   "outputs": [],
   "source": [
    "# Training data is 100 points in [0,1] inclusive regularly spaced\n",
    "train_x = torch.linspace(0, 1, 1000)\n",
    "# True function is sin(2*pi*x) with Gaussian noise\n",
    "train_y = torch.sin(train_x * (2 * math.pi)) + torch.randn(train_x.size()) * math.sqrt(0.04)"
   ]
  },
  {
   "cell_type": "markdown",
   "metadata": {},
   "source": [
    "## Setting up the model\n",
    "\n",
    "The next cell demonstrates the most critical features of a user-defined Gaussian process model in GPyTorch. Building a GP model in GPyTorch is different in a number of ways.\n",
    "\n",
    "First in contrast to many existing GP packages, we do not provide full GP models for the user. Rather, we provide *the tools necessary to quickly construct one*. This is because we believe, analogous to building a neural network in standard PyTorch, it is important to have the flexibility to include whatever components are necessary. As can be seen in more complicated examples, this allows the user great flexibility in designing custom models.\n",
    "\n",
    "For most GP regression models, you will need to construct the following GPyTorch objects:\n",
    "\n",
    "1. A **GP Model** (`gpytorch.models.ExactGP`) -  This handles most of the inference.\n",
    "1. A **Likelihood** (`gpytorch.likelihoods.GaussianLikelihood`) - This is the most common likelihood used for GP regression.\n",
    "1. A **Mean** - This defines the prior mean of the GP.(If you don't know which mean to use, a `gpytorch.means.ConstantMean()` is a good place to start.)\n",
    "1. A **Kernel** - This defines the prior covariance of the GP.(If you don't know which kernel to use, a `gpytorch.kernels.ScaleKernel(gpytorch.kernels.RBFKernel())` is a good place to start).\n",
    "1. A **MultivariateNormal** Distribution (`gpytorch.distributions.MultivariateNormal`) - This is the object used to represent multivariate normal distributions.\n",
    "  \n",
    "  \n",
    "### The GP Model\n",
    "  \n",
    "The components of a user built (Exact, i.e. non-variational) GP model in GPyTorch are, broadly speaking:\n",
    "\n",
    "1. An `__init__` method that takes the training data and a likelihood, and constructs whatever objects are necessary for the model's `forward` method. This will most commonly include things like a mean module and a kernel module.\n",
    "\n",
    "2. A `forward` method that takes in some $n \\times d$ data `x` and returns a `MultivariateNormal` with the *prior* mean and covariance evaluated at `x`. In other words, we return the vector $\\mu(x)$ and the $n \\times n$ matrix $K_{xx}$ representing the prior mean and covariance matrix of the GP. \n",
    "\n",
    "This specification leaves a large amount of flexibility when defining a model. For example, to compose two kernels via addition, you can either add the kernel modules directly:\n",
    "\n",
    "```python\n",
    "self.covar_module = ScaleKernel(RBFKernel() + WhiteNoiseKernel())\n",
    "```\n",
    "\n",
    "Or you can add the outputs of the kernel in the forward method:\n",
    "\n",
    "```python\n",
    "covar_x = self.rbf_kernel_module(x) + self.white_noise_module(x)\n",
    "```"
   ]
  },
  {
   "cell_type": "code",
   "execution_count": 3,
   "metadata": {},
   "outputs": [],
   "source": [
    "# We will use the simplest form of GP model, exact inference\n",
    "class ExactGPModel(gpytorch.models.ExactGP):\n",
    "    def __init__(self, train_x, train_y, likelihood):\n",
    "        super(ExactGPModel, self).__init__(train_x, train_y, likelihood)\n",
    "        self.mean_module = gpytorch.means.ZeroMean()\n",
    "        \n",
    "        assert 1 <= train_x.ndim <= 2\n",
    "        init_theta = (train_x[1:] - train_x[:-1]).norm(2, dim=-1).median()\n",
    "        self.covar_module = gpytorch.kernels.ScaleKernel(\n",
    "                                gpytorch.kernels.RBFKernel().initialize(lengthscale=init_theta)\n",
    "        )\n",
    "    \n",
    "    def forward(self, x):\n",
    "        mean_x = self.mean_module(x)\n",
    "        covar_x = self.covar_module(x)\n",
    "        return gpytorch.distributions.MultivariateNormal(mean_x, covar_x)\n",
    "\n",
    "# initialize likelihood and model\n",
    "likelihood = gpytorch.likelihoods.GaussianLikelihood()\n",
    "model = ExactGPModel(train_x, train_y, likelihood)"
   ]
  },
  {
   "cell_type": "markdown",
   "metadata": {},
   "source": [
    "### Model modes\n",
    "\n",
    "Like most PyTorch modules, the `ExactGP` has a `.train()` and `.eval()` mode.\n",
    "- `.train()` mode is for optimizing model hyperameters.\n",
    "- `.eval()` mode is for computing predictions through the model posterior."
   ]
  },
  {
   "cell_type": "markdown",
   "metadata": {},
   "source": [
    "## Training the model\n",
    "\n",
    "In the next cell, we handle using Type-II MLE to train the hyperparameters of the Gaussian process.\n",
    "\n",
    "The most obvious difference here compared to many other GP implementations is that, as in standard PyTorch, the core training loop is written by the user. In GPyTorch, we make use of the standard PyTorch optimizers as from `torch.optim`, and all trainable parameters of the model should be of type `torch.nn.Parameter`. Because GP models directly extend `torch.nn.Module`, calls to methods like `model.parameters()` or `model.named_parameters()` function as you might expect coming from PyTorch.\n",
    "\n",
    "In most cases, the boilerplate code below will work well. It has the same basic components as the standard PyTorch training loop:\n",
    "\n",
    "1. Zero all parameter gradients\n",
    "2. Call the model and compute the loss\n",
    "3. Call backward on the loss to fill in gradients\n",
    "4. Take a step on the optimizer\n",
    "\n",
    "However, defining custom training loops allows for greater flexibility. For example, it is easy to save the parameters at each step of training, or use different learning rates for different parameters (which may be useful in deep kernel learning for example)."
   ]
  },
  {
   "cell_type": "code",
   "execution_count": 4,
   "metadata": {},
   "outputs": [
    {
     "name": "stderr",
     "output_type": "stream",
     "text": [
      "/mnt/storage1/Documents/repos/gpytorch/gpytorch/functions/_inv_quad_log_det.py:75: UserWarning: Deterministic probes will currently work only if you aren't training multiple independent models simultaneously.\n",
      "  warnings.warn(\n"
     ]
    },
    {
     "name": "stdout",
     "output_type": "stream",
     "text": [
      "Tolerance after 29 iterations: 6.755626236554235e-05\n",
      "Iter 1/50 - Loss: 0.951   lengthscale: 0.032   noise: 0.693\n",
      "Tolerance after 33 iterations: 7.581556565128267e-05\n",
      "Iter 2/50 - Loss: 0.954   lengthscale: 0.035   noise: 0.644\n",
      "Tolerance after 34 iterations: 4.6253317123046145e-05\n",
      "Iter 3/50 - Loss: 0.956   lengthscale: 0.039   noise: 0.598\n",
      "Tolerance after 33 iterations: 5.3785803174832836e-05\n",
      "Iter 4/50 - Loss: 0.958   lengthscale: 0.042   noise: 0.554\n",
      "Tolerance after 34 iterations: 5.8659978094510734e-05\n",
      "Iter 5/50 - Loss: 0.961   lengthscale: 0.047   noise: 0.513\n",
      "Tolerance after 32 iterations: 8.36625840747729e-05\n",
      "Iter 6/50 - Loss: 0.964   lengthscale: 0.052   noise: 0.474\n",
      "Tolerance after 33 iterations: 3.2756270229583606e-05\n",
      "Iter 7/50 - Loss: 0.968   lengthscale: 0.057   noise: 0.437\n",
      "Tolerance after 32 iterations: 3.594842564780265e-05\n",
      "Iter 8/50 - Loss: 0.972   lengthscale: 0.062   noise: 0.403\n",
      "Tolerance after 29 iterations: 4.928015187033452e-05\n",
      "Iter 9/50 - Loss: 0.976   lengthscale: 0.069   noise: 0.370\n",
      "Tolerance after 28 iterations: 5.124948802404106e-05\n",
      "Iter 10/50 - Loss: 0.981   lengthscale: 0.075   noise: 0.340\n",
      "Tolerance after 28 iterations: 2.993580164911691e-05\n",
      "Iter 11/50 - Loss: 0.986   lengthscale: 0.082   noise: 0.312\n",
      "Tolerance after 26 iterations: 6.833766383351758e-05\n",
      "Iter 12/50 - Loss: 0.992   lengthscale: 0.090   noise: 0.286\n",
      "Tolerance after 25 iterations: 7.140757952583954e-05\n",
      "Iter 13/50 - Loss: 0.998   lengthscale: 0.098   noise: 0.262\n",
      "Tolerance after 27 iterations: 1.2497066563810222e-05\n",
      "Iter 14/50 - Loss: 1.005   lengthscale: 0.106   noise: 0.240\n",
      "Tolerance after 26 iterations: 2.2965818061493337e-05\n",
      "Iter 15/50 - Loss: 1.013   lengthscale: 0.116   noise: 0.219\n",
      "Tolerance after 23 iterations: 3.923864642274566e-05\n",
      "Iter 16/50 - Loss: 1.022   lengthscale: 0.126   noise: 0.200\n",
      "Tolerance after 24 iterations: 2.51079945883248e-05\n",
      "Iter 17/50 - Loss: 1.032   lengthscale: 0.136   noise: 0.182\n",
      "Tolerance after 22 iterations: 3.607266990002245e-05\n",
      "Iter 18/50 - Loss: 1.043   lengthscale: 0.148   noise: 0.166\n",
      "Tolerance after 20 iterations: 4.950549191562459e-05\n",
      "Iter 19/50 - Loss: 1.055   lengthscale: 0.161   noise: 0.151\n",
      "Tolerance after 21 iterations: 8.567641089030076e-06\n",
      "Iter 20/50 - Loss: 1.068   lengthscale: 0.174   noise: 0.138\n",
      "Tolerance after 19 iterations: 4.520908623817377e-05\n",
      "Iter 21/50 - Loss: 1.082   lengthscale: 0.189   noise: 0.126\n",
      "Tolerance after 18 iterations: 3.3521897421451285e-05\n",
      "Iter 22/50 - Loss: 1.098   lengthscale: 0.204   noise: 0.115\n",
      "Tolerance after 19 iterations: 4.877227183897048e-05\n",
      "Iter 23/50 - Loss: 1.116   lengthscale: 0.220   noise: 0.104\n",
      "Tolerance after 20 iterations: 3.3026302844518796e-05\n",
      "Iter 24/50 - Loss: 1.135   lengthscale: 0.237   noise: 0.095\n",
      "Tolerance after 18 iterations: 1.858254472608678e-05\n",
      "Iter 25/50 - Loss: 1.156   lengthscale: 0.254   noise: 0.087\n",
      "Tolerance after 18 iterations: 3.7973815778968856e-05\n",
      "Iter 26/50 - Loss: 1.178   lengthscale: 0.270   noise: 0.079\n",
      "Tolerance after 19 iterations: 1.7279335224884562e-05\n",
      "Iter 27/50 - Loss: 1.202   lengthscale: 0.284   noise: 0.073\n",
      "Tolerance after 19 iterations: 4.171413365838816e-06\n",
      "Iter 28/50 - Loss: 1.227   lengthscale: 0.294   noise: 0.067\n",
      "Tolerance after 20 iterations: 8.022002475627232e-07\n",
      "Iter 29/50 - Loss: 1.253   lengthscale: 0.301   noise: 0.061\n",
      "Tolerance after 20 iterations: 3.434343307162635e-05\n",
      "Iter 30/50 - Loss: 1.280   lengthscale: 0.304   noise: 0.056\n",
      "Tolerance after 20 iterations: 3.9546397601952776e-05\n",
      "Iter 31/50 - Loss: 1.309   lengthscale: 0.305   noise: 0.052\n",
      "Tolerance after 20 iterations: 3.6980840377509594e-05\n",
      "Iter 32/50 - Loss: 1.338   lengthscale: 0.303   noise: 0.048\n",
      "Tolerance after 21 iterations: 4.498318503465271e-06\n",
      "Iter 33/50 - Loss: 1.367   lengthscale: 0.300   noise: 0.045\n",
      "Tolerance after 21 iterations: 1.3829930139763746e-05\n",
      "Iter 34/50 - Loss: 1.397   lengthscale: 0.297   noise: 0.042\n",
      "Tolerance after 20 iterations: 5.0033413572236896e-05\n",
      "Iter 35/50 - Loss: 1.427   lengthscale: 0.295   noise: 0.039\n",
      "Tolerance after 21 iterations: 1.1365356840542518e-05\n",
      "Iter 36/50 - Loss: 1.456   lengthscale: 0.294   noise: 0.037\n",
      "Tolerance after 21 iterations: 5.586394036072306e-05\n",
      "Iter 37/50 - Loss: 1.483   lengthscale: 0.296   noise: 0.035\n",
      "Tolerance after 21 iterations: 2.9394022931228392e-05\n",
      "Iter 38/50 - Loss: 1.508   lengthscale: 0.299   noise: 0.034\n",
      "Tolerance after 21 iterations: 3.678450229926966e-05\n",
      "Iter 39/50 - Loss: 1.530   lengthscale: 0.304   noise: 0.032\n",
      "Tolerance after 22 iterations: 3.1490410037804395e-05\n",
      "Iter 40/50 - Loss: 1.549   lengthscale: 0.312   noise: 0.032\n",
      "Tolerance after 23 iterations: 9.022105587064289e-06\n",
      "Iter 41/50 - Loss: 1.563   lengthscale: 0.321   noise: 0.031\n",
      "Tolerance after 23 iterations: 4.531285958364606e-05\n",
      "Iter 42/50 - Loss: 1.574   lengthscale: 0.331   noise: 0.030\n",
      "Tolerance after 24 iterations: 1.4414328688872047e-05\n",
      "Iter 43/50 - Loss: 1.580   lengthscale: 0.342   noise: 0.030\n",
      "Tolerance after 28 iterations: 1.5970354070304893e-05\n",
      "Iter 44/50 - Loss: 1.583   lengthscale: 0.353   noise: 0.030\n",
      "Tolerance after 19 iterations: 4.954518226440996e-05\n",
      "Iter 45/50 - Loss: 1.581   lengthscale: 0.362   noise: 0.030\n",
      "Tolerance after 19 iterations: 4.9404232413508e-05\n",
      "Iter 46/50 - Loss: 1.575   lengthscale: 0.370   noise: 0.030\n",
      "Tolerance after 25 iterations: 3.1825829864828847e-06\n",
      "Iter 47/50 - Loss: 1.567   lengthscale: 0.375   noise: 0.031\n",
      "Tolerance after 19 iterations: 6.544728967128322e-05\n",
      "Iter 48/50 - Loss: 1.556   lengthscale: 0.378   noise: 0.031\n",
      "Tolerance after 22 iterations: 5.237240111455321e-05\n",
      "Iter 49/50 - Loss: 1.543   lengthscale: 0.378   noise: 0.032\n",
      "Tolerance after 19 iterations: 5.1662311307154596e-05\n",
      "Iter 50/50 - Loss: 1.529   lengthscale: 0.376   noise: 0.033\n"
     ]
    }
   ],
   "source": [
    "training_iter = 50\n",
    "\n",
    "\n",
    "# Find optimal model hyperparameters\n",
    "model.train()\n",
    "likelihood.train()\n",
    "\n",
    "# Use the adam optimizer\n",
    "optimizer = torch.optim.Adam([\n",
    "    {'params': model.parameters()},  # Includes GaussianLikelihood parameters\n",
    "], lr=0.1)\n",
    "\n",
    "# \"Loss\" for GPs - the marginal log likelihood\n",
    "mll = gpytorch.mlls.ExactMarginalLogLikelihood(likelihood, model)\n",
    "\n",
    "with gpytorch.settings.skip_logdet_forward(), \\\n",
    "    gpytorch.settings.max_preconditioner_size(0), \\\n",
    "    gpytorch.settings.ir_solve(), \\\n",
    "    gpytorch.settings.cg_tolerance(1e-4), \\\n",
    "    gpytorch.settings.max_cg_iterations(1000), \\\n",
    "    gpytorch.settings.deterministic_probes(), \\\n",
    "    gpytorch.settings.num_trace_samples(1)\\\n",
    ":\n",
    "    \n",
    "    for i in range(training_iter):\n",
    "        # Zero gradients from previous iteration\n",
    "        optimizer.zero_grad()\n",
    "        # Output from model\n",
    "        output = model(train_x)\n",
    "        # Calc loss and backprop gradients\n",
    "        loss = -mll(output, train_y)\n",
    "        loss.backward()\n",
    "        print('Iter %d/%d - Loss: %.3f   lengthscale: %.3f   noise: %.3f' % (\n",
    "            i + 1, training_iter, loss.item(),\n",
    "            model.covar_module.base_kernel.lengthscale.item(),\n",
    "            model.likelihood.noise.item()\n",
    "        ))\n",
    "        optimizer.step()"
   ]
  },
  {
   "cell_type": "markdown",
   "metadata": {},
   "source": [
    "## Make predictions with the model\n",
    "\n",
    "In the next cell, we make predictions with the model. To do this, we simply put the model and likelihood in eval mode, and call both modules on the test data.\n",
    "\n",
    "Just as a user defined GP model returns a `MultivariateNormal` containing the prior mean and covariance from forward, a trained GP model in eval mode returns a `MultivariateNormal` containing the posterior mean and covariance. Thus, getting the predictive mean and variance, and then sampling functions from the GP at the given test points could be accomplished with calls like:\n",
    "\n",
    "```python\n",
    "f_preds = model(test_x)\n",
    "y_preds = likelihood(model(test_x))\n",
    "\n",
    "f_mean = f_preds.mean\n",
    "f_var = f_preds.variance\n",
    "f_covar = f_preds.covariance_matrix\n",
    "f_samples = f_preds.sample(sample_shape=torch.Size(1000,))\n",
    "```\n",
    "\n",
    "The `gpytorch.settings.fast_pred_var` context is not needed, but here we are giving a preview of using one of our cool features, getting faster predictive distributions using [LOVE](https://arxiv.org/abs/1803.06058)."
   ]
  },
  {
   "cell_type": "code",
   "execution_count": 6,
   "metadata": {},
   "outputs": [
    {
     "name": "stdout",
     "output_type": "stream",
     "text": [
      "Tolerance after 9 iterations: 0.009361078962683678\n"
     ]
    }
   ],
   "source": [
    "# Get into evaluation (predictive posterior) mode\n",
    "model.eval()\n",
    "likelihood.eval()\n",
    "\n",
    "# Test points are regularly spaced along [0,1]\n",
    "# Make predictions by feeding model through likelihood\n",
    "with torch.no_grad(), gpytorch.settings.fast_pred_var():\n",
    "    test_x = torch.linspace(0, 1, 51)\n",
    "    observed_pred = likelihood(model(test_x))"
   ]
  },
  {
   "cell_type": "markdown",
   "metadata": {},
   "source": [
    "## Plot the model fit\n",
    "\n",
    "In the next cell, we plot the mean and confidence region of the Gaussian process model. The `confidence_region` method is a helper method that returns 2 standard deviations above and below the mean."
   ]
  },
  {
   "cell_type": "code",
   "execution_count": 7,
   "metadata": {},
   "outputs": [
    {
     "data": {
      "image/png": "[encoded data removed]",
      "text/plain": [
       "<Figure size 288x216 with 1 Axes>"
      ]
     },
     "metadata": {
      "needs_background": "light"
     },
     "output_type": "display_data"
    }
   ],
   "source": [
    "with torch.no_grad():\n",
    "    # Initialize plot\n",
    "    f, ax = plt.subplots(1, 1, figsize=(4, 3))\n",
    "\n",
    "    # Get upper and lower confidence bounds\n",
    "    lower, upper = observed_pred.confidence_region()\n",
    "    # Plot training data as black stars\n",
    "    ax.plot(train_x.numpy(), train_y.numpy(), 'k*')\n",
    "    # Plot predictive means as blue line\n",
    "    ax.plot(test_x.numpy(), observed_pred.mean.numpy(), 'b')\n",
    "    # Shade between the lower and upper confidence bounds\n",
    "    ax.fill_between(test_x.numpy(), lower.numpy(), upper.numpy(), alpha=0.5)\n",
    "    ax.set_ylim([-3, 3])\n",
    "    ax.legend(['Observed Data', 'Mean', 'Confidence'])"
   ]
  },
  {
   "cell_type": "code",
   "execution_count": null,
   "metadata": {},
   "outputs": [],
   "source": []
  }
 ],
 "metadata": {
  "anaconda-cloud": {},
  "kernelspec": {
   "display_name": "Python 3",
   "language": "python",
   "name": "python3"
  },
  "language_info": {
   "codemirror_mode": {
    "name": "ipython",
    "version": 3
   },
   "file_extension": ".py",
   "mimetype": "text/x-python",
   "name": "python",
   "nbconvert_exporter": "python",
   "pygments_lexer": "ipython3",
   "version": "3.8.1"
  }
 },
 "nbformat": 4,
 "nbformat_minor": 4
}
